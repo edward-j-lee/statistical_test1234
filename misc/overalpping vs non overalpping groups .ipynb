{
 "cells": [
  {
   "cell_type": "code",
   "execution_count": 41,
   "id": "0864e90b",
   "metadata": {},
   "outputs": [],
   "source": [
    "import numpy as np\n",
    "import scipy.stats as stats\n",
    "import matplotlib.pyplot as plt\n",
    "import pymc3 as pm"
   ]
  },
  {
   "cell_type": "code",
   "execution_count": 38,
   "id": "bb6057d7",
   "metadata": {},
   "outputs": [
    {
     "data": {
      "text/plain": [
       "10000"
      ]
     },
     "execution_count": 38,
     "metadata": {},
     "output_type": "execute_result"
    }
   ],
   "source": [
    "N=10*1000+1\n",
    "j=N/1000\n",
    "j=int(j)\n",
    "j*1000"
   ]
  },
  {
   "cell_type": "code",
   "execution_count": 42,
   "id": "c1e5d417",
   "metadata": {},
   "outputs": [],
   "source": [
    "def nonoverlapping_p(posterior, exact):\n",
    "    N=len(posterior)\n",
    "    pval=[]\n",
    "    passed_count=0\n",
    "    if N>=10000:\n",
    "        j=int(N/1000)\n",
    "        posterior=posterior[:j*1000]\n",
    "        posterior=posterior.reshape(1000,j)\n",
    "        for i in posterior:\n",
    "            p=stats.kstest(i,exact)[1]\n",
    "            pval.append(stats.kstest(i, exact)[1])\n",
    "            if p>0.01:\n",
    "                passed_count+=1\n",
    "    elif N>=1000:\n",
    "        j=int(N/100)\n",
    "        posterior=posterior[:j*1000]\n",
    "        posterior=posterior.reshape(1000,j)\n",
    "        for i in posterior:\n",
    "            p=stats.kstest(i,exact)[1]\n",
    "            pval.append(stats.kstest(i, exact)[1])\n",
    "            if p>0.01:\n",
    "                passed_count+=1\n",
    "    else:\n",
    "        print ('sample size too small')\n",
    "    perc_passed=(passed_count/len(pval))*100\n",
    "    plt.hist(pval, bins=100, density=True, color='b')\n",
    "    plt.title('p values of samples divided into non overalapping groups')\n",
    "    text=str(perc_passed)+'%'+' of p values has passed'\n",
    "    plt.annotate(text, (0.8, 0.9))\n",
    "    plt.show() "
   ]
  },
  {
   "cell_type": "code",
   "execution_count": 45,
   "id": "d807296d",
   "metadata": {},
   "outputs": [],
   "source": [
    "def overlapping_p(posterior, exact):\n",
    "    N=len(posterior)\n",
    "    pval=[]\n",
    "    passed_count=0\n",
    "    for i in range(1000):\n",
    "        partialsample=np.random.choice(posterior, int(N/2))\n",
    "        p=stats.kstest(partialsample, exact)[1]\n",
    "        pval.append(p)\n",
    "        if p>0.01:\n",
    "            passed_count+=1\n",
    "        perc_passed=(passed_count/len(pval))*100\n",
    "    plt.hist(pval, bins=100, density=True, color='g')\n",
    "    plt.title('distribution of p value with samples divided into overlapping groups')\n",
    "    text=str(perc_passed)+'%'+' of p values has passed'\n",
    "    plt.annotate(text, (0.8, 0.9))\n",
    "    plt.show()  "
   ]
  },
  {
   "cell_type": "code",
   "execution_count": 24,
   "id": "ef1b64e6",
   "metadata": {},
   "outputs": [
    {
     "name": "stderr",
     "output_type": "stream",
     "text": [
      "Auto-assigning NUTS sampler...\n",
      "Initializing NUTS using jitter+adapt_diag...\n",
      "Multiprocess sampling (4 chains in 4 jobs)\n",
      "NUTS: [θ]\n",
      "Sampling 4 chains, 0 divergences: 100%|██████████████████████████████████| 1002000/1002000 [48:51<00:00, 341.76draws/s]\n",
      "Auto-assigning NUTS sampler...\n",
      "Initializing NUTS using jitter+adapt_diag...\n",
      "Multiprocess sampling (4 chains in 4 jobs)\n",
      "NUTS: [θ]\n",
      "Sampling 4 chains, 0 divergences: 100%|██████████████████████████████████████| 12000/12000 [00:37<00:00, 316.69draws/s]\n"
     ]
    }
   ],
   "source": [
    "obs=[1,1,1,0,1,1,0,0,1,1,1,1]\n",
    "with pm.Model() as model:\n",
    "    θ=pm.Beta(name='θ', alpha=2,beta=3)\n",
    "    likelihood=pm.Bernoulli(name='y', p=θ, observed=obs)\n",
    "    trace1=pm.sample(250000)\n",
    "\n",
    "posterior1=trace1['θ']\n",
    "\n",
    "with pm.Model() as model:\n",
    "    θ=pm.Beta(name='θ', alpha=2,beta=3)\n",
    "    likelihood=pm.Bernoulli(name='y', p=θ, observed=obs)\n",
    "    trace2=pm.sample(2500)\n",
    "\n",
    "posterior2=trace2['θ']\n",
    "\n",
    "def beta_bernoulli(parameters, obs):\n",
    "    s=np.sum(obs)\n",
    "    n=len(obs)\n",
    "    alpha_new=parameters[0]+s\n",
    "    beta_new=parameters[1]+n-s\n",
    "    #stats.beta.rvs(a=alpha_new, b=beta_new, size=factor*N)\n",
    "    return alpha_new, beta_new\n",
    "\n",
    "newparam=beta_bernoulli((2,3), obs)\n",
    "\n",
    "cdf = lambda x: stats.beta.cdf(x, *newparam)\n"
   ]
  },
  {
   "cell_type": "code",
   "execution_count": 46,
   "id": "5e2c9594",
   "metadata": {},
   "outputs": [
    {
     "name": "stdout",
     "output_type": "stream",
     "text": [
      "large sample\n"
     ]
    },
    {
     "data": {
      "image/png": "[encoded data removed]",
      "text/plain": [
       "<Figure size 432x288 with 1 Axes>"
      ]
     },
     "metadata": {
      "needs_background": "light"
     },
     "output_type": "display_data"
    },
    {
     "data": {
      "image/png": "[encoded data removed]",
      "text/plain": [
       "<Figure size 432x288 with 1 Axes>"
      ]
     },
     "metadata": {
      "needs_background": "light"
     },
     "output_type": "display_data"
    }
   ],
   "source": [
    "print ('large sample')\n",
    "nonoverlapping_p(posterior1, cdf)\n",
    "overlapping_p(posterior1, cdf)"
   ]
  },
  {
   "cell_type": "code",
   "execution_count": 47,
   "id": "0b83b5c3",
   "metadata": {},
   "outputs": [
    {
     "name": "stdout",
     "output_type": "stream",
     "text": [
      "small sample\n"
     ]
    },
    {
     "data": {
      "image/png": "[encoded data removed]",
      "text/plain": [
       "<Figure size 432x288 with 1 Axes>"
      ]
     },
     "metadata": {
      "needs_background": "light"
     },
     "output_type": "display_data"
    },
    {
     "data": {
      "image/png": "[encoded data removed]",
      "text/plain": [
       "<Figure size 432x288 with 1 Axes>"
      ]
     },
     "metadata": {
      "needs_background": "light"
     },
     "output_type": "display_data"
    }
   ],
   "source": [
    "print ('small sample')\n",
    "nonoverlapping_p(posterior2, cdf)\n",
    "overlapping_p(posterior2, cdf)"
   ]
  },
  {
   "cell_type": "code",
   "execution_count": 15,
   "id": "fa4ada24",
   "metadata": {},
   "outputs": [
    {
     "data": {
      "text/plain": [
       "array([[ 1.0180419 ,  0.78321289, -0.58958671, -0.13693652, -0.76683965],\n",
       "       [ 0.16769656,  0.48140094, -0.40352282,  0.82649477,  2.04548183],\n",
       "       [ 0.51060732, -0.81783209, -0.32562541,  2.05965457, -0.54318992],\n",
       "       [ 2.78430757,  0.6108613 , -0.85051599, -0.11996562,  0.85193024],\n",
       "       [-1.48702965,  0.72024712, -1.04219663,  0.55884696, -0.22202694],\n",
       "       [-1.08296348,  0.60231355, -0.05325143,  1.1232796 , -1.03672069],\n",
       "       [-0.37261166, -0.41089702, -1.19390588, -0.38360482, -0.53235836],\n",
       "       [-1.10262774,  1.62716651,  0.10698088, -0.30892704,  0.21027265],\n",
       "       [-0.89020927, -1.17453616, -0.36345174,  0.15868073, -0.16764872],\n",
       "       [ 0.66551395,  0.28250825,  0.04775726, -0.55271718,  0.12545924],\n",
       "       [-0.75947216, -0.319589  , -0.1020213 , -0.15962214,  1.67785989],\n",
       "       [ 0.08888432,  1.02515126, -0.97052402,  0.51502036,  1.4171352 ],\n",
       "       [-0.17240619,  0.50666539,  1.57730928,  0.81693598,  1.06601019],\n",
       "       [ 0.71402543,  1.2443204 , -1.78078759,  0.13961199, -0.12246052],\n",
       "       [-1.12745513, -0.34890735, -0.91806136, -0.19801716,  0.48496217],\n",
       "       [ 1.15174164, -0.75878284,  0.97294725,  1.56156699, -0.49801124],\n",
       "       [-0.15972153,  0.41256884, -0.12570669,  0.17617609, -1.85973187],\n",
       "       [-0.59775563, -1.76737707, -1.71427427,  1.70015964,  0.43712895],\n",
       "       [-0.11124054, -1.14468684,  0.26859221,  0.1147707 , -0.64316216],\n",
       "       [-0.94445915,  0.26787158,  1.14580128, -0.40950029,  1.78325923]])"
      ]
     },
     "execution_count": 15,
     "metadata": {},
     "output_type": "execute_result"
    }
   ],
   "source": [
    "stats.norm.rvs(size=100).reshape(20,5)"
   ]
  },
  {
   "cell_type": "code",
   "execution_count": 7,
   "id": "f57cc820",
   "metadata": {},
   "outputs": [
    {
     "data": {
      "text/plain": [
       "(10000,)"
      ]
     },
     "execution_count": 7,
     "metadata": {},
     "output_type": "execute_result"
    }
   ],
   "source": [
    "stats.norm.rvs(size=10000).shape"
   ]
  },
  {
   "cell_type": "code",
   "execution_count": null,
   "id": "5f44b88f",
   "metadata": {},
   "outputs": [],
   "source": []
  }
 ],
 "metadata": {
  "kernelspec": {
   "display_name": "Python 3",
   "language": "python",
   "name": "python3"
  },
  "language_info": {
   "codemirror_mode": {
    "name": "ipython",
    "version": 3
   },
   "file_extension": ".py",
   "mimetype": "text/x-python",
   "name": "python",
   "nbconvert_exporter": "python",
   "pygments_lexer": "ipython3",
   "version": "3.8.8"
  }
 },
 "nbformat": 4,
 "nbformat_minor": 5
}
